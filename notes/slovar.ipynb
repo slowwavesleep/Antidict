{
 "cells": [
  {
   "cell_type": "code",
   "execution_count": 135,
   "metadata": {},
   "outputs": [],
   "source": [
    "from bs4 import BeautifulSoup as bs\n",
    "import requests\n",
    "import re\n",
    "import pandas as pd\n",
    "import time"
   ]
  },
  {
   "cell_type": "code",
   "execution_count": 38,
   "metadata": {},
   "outputs": [],
   "source": [
    "index = 'http://anglicismdictionary.ru/Slovar'\n",
    "origin = 'http://anglicismdictionary.ru'\n",
    "user_agent = {'User-agent': 'Mozilla/5.0 (Windows NT 10.0; Win64; x64) AppleWebKit/537.36 (KHTML, like Gecko) Chrome/74.0.3729.169 Safari/537.36'}"
   ]
  },
  {
   "cell_type": "code",
   "execution_count": 4,
   "metadata": {},
   "outputs": [],
   "source": [
    "letters = requests.get(index, headers=user_agent)"
   ]
  },
  {
   "cell_type": "code",
   "execution_count": 6,
   "metadata": {},
   "outputs": [],
   "source": [
    "letters.encoding= 'utf-8'"
   ]
  },
  {
   "cell_type": "code",
   "execution_count": 7,
   "metadata": {},
   "outputs": [],
   "source": [
    "letters = letters.text"
   ]
  },
  {
   "cell_type": "code",
   "execution_count": 9,
   "metadata": {},
   "outputs": [],
   "source": [
    "letters = bs(letters, 'lxml')"
   ]
  },
  {
   "cell_type": "code",
   "execution_count": 33,
   "metadata": {},
   "outputs": [],
   "source": [
    "dict_letters = []\n",
    "for td in letters.find_all('table')[0].find_all('td'):\n",
    "    a = td.find_all('a')\n",
    "    if a:\n",
    "        dict_letters.append(a[0]['href'])"
   ]
  },
  {
   "cell_type": "code",
   "execution_count": 132,
   "metadata": {},
   "outputs": [],
   "source": [
    "def get_words(origin, letter):\n",
    "    doc = requests.get(origin + letter, headers=user_agent)\n",
    "    doc.encoding = 'utf-8'\n",
    "    doc_text = doc.text\n",
    "    html = bs(doc_text, 'lxml')\n",
    "    html = html.find(\"div\", {\"id\": \"content\"})\n",
    "    \n",
    "    res = []\n",
    "    \n",
    "    word_origin_pattern = re.compile(r'\\((.+?)\\)')\n",
    "    info_pattern = re.compile(r'(?<=\\)\\. )[а-я\\. ]+(?=[А-Я])')\n",
    "\n",
    "    for p in html.find_all('p'):\n",
    "        article = dict()\n",
    "        entry = p.find_all('strong')\n",
    "        if entry:\n",
    "            entry = [el.get_text().strip(' (').replace('\\xa0', '') for el in entry if el]\n",
    "            word = [el for el in entry if el.isupper()]\n",
    "            article['word'] = (' '.join(word))\n",
    "\n",
    "            forms = [el for el in entry if not el.isupper() and el.isalpha()]\n",
    "            article['forms'] = (', '.join(forms))\n",
    "\n",
    "            word_origin = re.findall(word_origin_pattern, p.get_text())\n",
    "            if word_origin:\n",
    "                article['full_origin'] = word_origin[0].replace('\\xa0', '')\n",
    "            else:\n",
    "                article['full_origin'] = ''\n",
    "                \n",
    "\n",
    "\n",
    "            info = re.findall(info_pattern, p.get_text())\n",
    "            article['info'] = ' '.join(info).strip(' ')\n",
    "            article['html'] = p\n",
    "\n",
    "            res.append(article)\n",
    "    return res"
   ]
  },
  {
   "cell_type": "code",
   "execution_count": 136,
   "metadata": {},
   "outputs": [],
   "source": [
    "articles = []\n",
    "for letter in dict_letters:\n",
    "    articles.extend(get_words(origin, letter))\n",
    "    time.sleep(2)"
   ]
  },
  {
   "cell_type": "code",
   "execution_count": 138,
   "metadata": {},
   "outputs": [],
   "source": [
    "data = pd.DataFrame()"
   ]
  },
  {
   "cell_type": "code",
   "execution_count": 142,
   "metadata": {},
   "outputs": [],
   "source": [
    "data = data.from_dict(articles)"
   ]
  },
  {
   "cell_type": "code",
   "execution_count": 146,
   "metadata": {},
   "outputs": [],
   "source": [
    "data = data[['word', 'info', 'forms', 'full_origin', 'html']]"
   ]
  },
  {
   "cell_type": "code",
   "execution_count": 158,
   "metadata": {},
   "outputs": [],
   "source": [
    "data.loc[data['info'] == '', 'info'] = '-'"
   ]
  },
  {
   "cell_type": "code",
   "execution_count": 160,
   "metadata": {},
   "outputs": [],
   "source": [
    "data.loc[data['forms'] == '', 'forms'] = '-'"
   ]
  },
  {
   "cell_type": "code",
   "execution_count": 162,
   "metadata": {},
   "outputs": [],
   "source": [
    "data.loc[data['full_origin'] == '', 'full_origin'] = '-'"
   ]
  },
  {
   "cell_type": "code",
   "execution_count": 169,
   "metadata": {},
   "outputs": [],
   "source": [
    "data.to_csv(\"slovar_full.csv\", na_rep=\"-\", sep=\"\\t\", quotechar=\"'\", encoding='utf-8', index=False)"
   ]
  },
  {
   "cell_type": "code",
   "execution_count": 170,
   "metadata": {},
   "outputs": [],
   "source": [
    "data_words = data['word']"
   ]
  },
  {
   "cell_type": "code",
   "execution_count": 173,
   "metadata": {},
   "outputs": [],
   "source": [
    "data_words.to_csv('slovar.csv', sep='\\t', index=False, header=False)"
   ]
  },
  {
   "cell_type": "code",
   "execution_count": null,
   "metadata": {},
   "outputs": [],
   "source": []
  }
 ],
 "metadata": {
  "kernelspec": {
   "display_name": "Python 3",
   "language": "python",
   "name": "python3"
  },
  "language_info": {
   "codemirror_mode": {
    "name": "ipython",
    "version": 3
   },
   "file_extension": ".py",
   "mimetype": "text/x-python",
   "name": "python",
   "nbconvert_exporter": "python",
   "pygments_lexer": "ipython3",
   "version": "3.7.1"
  }
 },
 "nbformat": 4,
 "nbformat_minor": 2
}
